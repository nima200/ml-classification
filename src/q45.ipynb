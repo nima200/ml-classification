{
 "cells": [
  {
   "cell_type": "code",
   "execution_count": 1,
   "metadata": {
    "collapsed": true
   },
   "outputs": [],
   "source": [
    "import numpy as np"
   ]
  },
  {
   "cell_type": "code",
   "execution_count": 2,
   "metadata": {},
   "outputs": [],
   "source": [
    "# Extract all three means for each class from the data provided and delete last column of all (NaN)\n",
    "c1_mean_1 = np.genfromtxt('./src/data/DS2_c1_m1.txt', delimiter=',')\n",
    "c1_mean_2 = np.genfromtxt('./src/data/DS2_c1_m2.txt', delimiter=',')\n",
    "c1_mean_3 = np.genfromtxt('./src/data/DS2_c1_m3.txt', delimiter=',')\n",
    "\n",
    "c2_mean_1 = np.genfromtxt('./src/data/DS2_c2_m1.txt', delimiter=',')\n",
    "c2_mean_2 = np.genfromtxt('./src/data/DS2_c2_m2.txt', delimiter=',')\n",
    "c2_mean_3 = np.genfromtxt('./src/data/DS2_c2_m3.txt', delimiter=',')\n",
    "\n",
    "c1_mean_1 = np.delete(c1_mean_1, len(c1_mean_1) - 1)\n",
    "c1_mean_2 = np.delete(c1_mean_2, len(c1_mean_2) - 1)\n",
    "c1_mean_3 = np.delete(c1_mean_3, len(c1_mean_3) - 1)\n",
    "\n",
    "c2_mean_1 = np.delete(c2_mean_1, len(c2_mean_1) - 1)\n",
    "c2_mean_2 = np.delete(c2_mean_2, len(c2_mean_2) - 1)\n",
    "c2_mean_3 = np.delete(c2_mean_3, len(c2_mean_3) - 1)"
   ]
  },
  {
   "cell_type": "code",
   "execution_count": 3,
   "metadata": {},
   "outputs": [],
   "source": [
    "# Extract all 3 covariances and fix last column (NaN)\n",
    "cov_1 = np.genfromtxt('./src/data/DS2_Cov1.txt', delimiter=',')\n",
    "cov_2 = np.genfromtxt('./src/data/DS2_Cov2.txt', delimiter=',')\n",
    "cov_3 = np.genfromtxt('./src/data/DS2_Cov3.txt', delimiter=',')\n",
    "\n",
    "cov_1 = np.delete(cov_1, len(cov_1[0]) - 1, axis=1)\n",
    "cov_2 = np.delete(cov_2, len(cov_2[0]) - 1, axis=1)\n",
    "cov_3 = np.delete(cov_3, len(cov_3[0]) - 1, axis=1)"
   ]
  },
  {
   "cell_type": "code",
   "execution_count": 4,
   "metadata": {},
   "outputs": [],
   "source": [
    "# Create all samples for both classes, using the same relative covariance matrix\n",
    "c1_1_x = np.random.multivariate_normal(c1_mean_1, cov_1, 200)\n",
    "c1_2_x = np.random.multivariate_normal(c1_mean_2, cov_2, 840)\n",
    "c1_3_x = np.random.multivariate_normal(c1_mean_3, cov_3, 960)\n",
    "\n",
    "c2_1_x = np.random.multivariate_normal(c2_mean_1, cov_1, 200)\n",
    "c2_2_x = np.random.multivariate_normal(c2_mean_2, cov_2, 840)\n",
    "c2_3_x = np.random.multivariate_normal(c2_mean_3, cov_3, 960)\n"
   ]
  },
  {
   "cell_type": "code",
   "execution_count": 5,
   "metadata": {},
   "outputs": [],
   "source": [
    "# Add a column of 0 for c1 and 1 for c2 as the classes and create 0.1, 0.42, 0.48 samples\n",
    "col1_1 = np.ones(shape=(1, 200))\n",
    "col1_2 = np.ones(shape=(1, 840))\n",
    "col1_3 = np.ones(shape=(1, 960))\n",
    "\n",
    "col0_1 = np.zeros(shape=(1, 200))\n",
    "col0_2 = np.zeros(shape=(1, 840))\n",
    "col0_3 = np.zeros(shape=(1, 960))\n",
    "\n",
    "# Add a label column of 1 for class 1 (positive)\n",
    "c1_samples_1 = np.insert(c1_1_x, c1_1_x.shape[1], col1_1, axis=1)\n",
    "c1_samples_2 = np.insert(c1_2_x, c1_2_x.shape[1], col1_2, axis=1)\n",
    "c1_samples_3 = np.insert(c1_3_x, c1_3_x.shape[1], col1_3, axis=1)\n",
    "\n",
    "# Add a label column of 0 for class 2 (negative)\n",
    "c2_samples_1 = np.insert(c2_1_x, c2_1_x.shape[1], col0_1, axis=1)\n",
    "c2_samples_2 = np.insert(c2_2_x, c2_2_x.shape[1], col0_2, axis=1)\n",
    "c2_samples_3 = np.insert(c2_3_x, c2_3_x.shape[1], col0_3, axis=1)"
   ]
  },
  {
   "cell_type": "code",
   "execution_count": 10,
   "metadata": {},
   "outputs": [],
   "source": [
    "# Append all 3 parts of the samples together for each class\n",
    "c1_samples = np.append(c1_samples_1, c1_samples_2, axis=0)\n",
    "c1_samples = np.append(c1_samples, c1_samples_3, axis=0)\n",
    "c2_samples = np.append(c2_samples_1, c2_samples_2, axis=0)\n",
    "c2_samples = np.append(c2_samples, c2_samples_3, axis=0)\n",
    "\n",
    "# Append samples of both classes together and shuffle \n",
    "all_samples = np.append(c1_samples, c2_samples, axis=0)\n",
    "np.random.shuffle(all_samples)\n",
    "# Save samples as DS2.csv\n",
    "np.savetxt('./src/data/DS2.csv', all_samples, delimiter=',', fmt='%.10f')"
   ]
  },
  {
   "cell_type": "code",
   "execution_count": 12,
   "metadata": {},
   "outputs": [],
   "source": [
    "# Split the data into the 70-30 training-test split randomly\n",
    "np.random.shuffle(c1_samples)\n",
    "np.random.shuffle(c2_samples)\n",
    "\n",
    "c1_test = c1_samples[0:int(c1_samples.shape[0] * 0.3)]\n",
    "c1_train = c1_samples[int(c1_samples.shape[0] * 0.3):]\n",
    "c2_test = c2_samples[0:int(c2_samples.shape[0] * 0.3):]\n",
    "c2_train = c2_samples[int(c2_samples.shape[0] * 0.3):]\n",
    "\n",
    "test = np.append(c1_test, c2_test, axis=0)\n",
    "train = np.append(c1_train, c2_train, axis=0)"
   ]
  },
  {
   "cell_type": "code",
   "execution_count": 13,
   "metadata": {},
   "outputs": [],
   "source": [
    "# Separate out data into features and classes\n",
    "c1_test_x = c1_test[:, 0:c1_test.shape[1] - 1]\n",
    "c1_test_y = c1_test[:, c1_test.shape[1] - 1]\n",
    "c1_train_x = c1_train[:, 0:c1_train.shape[1] - 1]\n",
    "c1_train_y = c1_train[:, c1_train.shape[1] - 1]\n",
    "c2_test_x = c2_test[:, 0:c2_test.shape[1] - 1]\n",
    "c2_test_y = c2_test[:, c2_test.shape[1] - 1]\n",
    "c2_train_x = c2_train[:, 0:c2_train.shape[1] - 1]\n",
    "c2_train_y = c2_train[:, c2_train.shape[1] - 1]"
   ]
  },
  {
   "cell_type": "code",
   "execution_count": 14,
   "metadata": {},
   "outputs": [],
   "source": [
    "# Separate out features and class of test and training set for later convenience\n",
    "test_x = test[:, 0:test.shape[1] - 1]\n",
    "test_y = test[:, test.shape[1] - 1]\n",
    "\n",
    "train_x = train[:, 0:train.shape[1] - 1]\n",
    "train_y = train[:, train.shape[1] - 1]"
   ]
  },
  {
   "cell_type": "code",
   "execution_count": 15,
   "metadata": {},
   "outputs": [],
   "source": [
    "# Calculate length of sets\n",
    "n1 = c1_train.shape[0]\n",
    "n2 = c2_train.shape[0]\n",
    "n = train.shape[0]"
   ]
  },
  {
   "cell_type": "code",
   "execution_count": 16,
   "metadata": {},
   "outputs": [],
   "source": [
    "# Calculate mu1 for c1 (positive)\n",
    "mu1 = np.zeros(shape=(c1_train_x.shape[1],))\n",
    "for i in range(n1):\n",
    "    mu1 += c1_train_x[i]\n",
    "mu1 /= n1\n",
    "mu1 = mu1.reshape(20, 1)"
   ]
  },
  {
   "cell_type": "code",
   "execution_count": 17,
   "metadata": {},
   "outputs": [],
   "source": [
    "# Calculate mu2 for c2 (negative)\n",
    "mu2 = np.zeros(shape=(c2_train_x.shape[1],))\n",
    "for i in range(n2):\n",
    "    mu2 += c2_train_x[i]\n",
    "mu2 /= n2\n",
    "mu2 = mu2.reshape(20, 1)"
   ]
  },
  {
   "cell_type": "code",
   "execution_count": 18,
   "metadata": {},
   "outputs": [],
   "source": [
    "# Calculate S1 and S2\n",
    "xminmu1 = c1_train_x - np.transpose(mu1)\n",
    "s1 = np.matmul(np.transpose(xminmu1), xminmu1)\n",
    "s1 /= n1\n",
    "\n",
    "xminmu2 = c2_train_x - np.transpose(mu2)\n",
    "s2 = np.matmul(np.transpose(xminmu2), xminmu2)\n",
    "s2 /= n2"
   ]
  },
  {
   "cell_type": "code",
   "execution_count": 19,
   "metadata": {},
   "outputs": [],
   "source": [
    "# Calculate sigma\n",
    "sigma = (1.0 / n) * (n1 * s1 + n2 * s2)"
   ]
  },
  {
   "cell_type": "code",
   "execution_count": 20,
   "metadata": {},
   "outputs": [],
   "source": [
    "# Calculate pi\n",
    "pi = n1 / n"
   ]
  },
  {
   "cell_type": "code",
   "execution_count": 21,
   "metadata": {},
   "outputs": [],
   "source": [
    "# Calculate w0 and w1\n",
    "sigmaInv = np.linalg.inv(sigma)\n",
    "w = np.matmul(sigmaInv, (mu1 - mu2))\n",
    "w0 = ((-0.5) * (np.matmul(np.matmul(np.transpose(mu1), sigmaInv), mu1))) + \\\n",
    "     (0.5 * (np.matmul(np.matmul(np.transpose(mu2), sigmaInv), mu2))) + \\\n",
    "      np.log(pi / (1 - pi))\n",
    "\n",
    "np.savetxt('./src/DS2_LDA_w.csv', w, delimiter=',', fmt='%.10f')\n",
    "np.savetxt('./src/DS2_LDA_w0.csv', w0, delimiter=',', fmt='%.10f')"
   ]
  },
  {
   "cell_type": "code",
   "execution_count": 21,
   "metadata": {},
   "outputs": [],
   "source": [
    "# Logistic Sigmoid function\n",
    "def sigmoid(a):\n",
    "    result = 1 + np.power(np.e, -a)\n",
    "    return 1 / result"
   ]
  },
  {
   "cell_type": "code",
   "execution_count": 23,
   "metadata": {},
   "outputs": [],
   "source": [
    "# Use the coefficients learnt to predict new input\n",
    "predictions = np.zeros(shape=(test_x.shape[0], 1))\n",
    "np.seterr(all='raise')\n",
    "for i, x in enumerate(test_x):\n",
    "    predictions[i] = sigmoid(w.T.dot(x) + w0)\n"
   ]
  },
  {
   "cell_type": "code",
   "execution_count": 24,
   "metadata": {},
   "outputs": [],
   "source": [
    "# Calculate the true and false positive and negative predictions of the learnt model\n",
    "true_pos, true_neg, false_pos, false_neg = 0, 0, 0, 0\n",
    "for i, prediction in enumerate(predictions):\n",
    "    actual = test_y[i]\n",
    "    if prediction >= 0.5 and actual == 1:\n",
    "        true_pos += 1\n",
    "    if prediction < 0.5 and actual == 0:\n",
    "        true_neg += 1\n",
    "    if prediction >= 0.5 and actual == 0:\n",
    "        false_pos += 1\n",
    "    if prediction < 0.5 and actual == 1:\n",
    "        false_neg += 1"
   ]
  },
  {
   "cell_type": "code",
   "execution_count": 25,
   "metadata": {},
   "outputs": [],
   "source": [
    "# Calculate the accuracy, precision, recall, and F1 of the learnt model\n",
    "accuracy = (true_neg + true_pos) / test.shape[0]\n",
    "precision = true_pos / (true_pos + false_pos)\n",
    "recall = true_pos / (true_pos + false_neg)\n",
    "f1 = (2 * precision * recall) / (precision + recall)"
   ]
  },
  {
   "cell_type": "code",
   "execution_count": 26,
   "metadata": {},
   "outputs": [],
   "source": [
    "print(\"Probabilistic LDA Results:\")\n",
    "print(\"Accuracy: %.2f%%\" % (accuracy * 100))\n",
    "print(\"Precision: %.2f%%\" % (precision * 100))\n",
    "print(\"Recall: %.2f%%\" % (recall * 100))\n",
    "print(\"F1 Measure: %.2f%%\" % (f1 * 100))\n"
   ]
  },
  {
   "cell_type": "code",
   "execution_count": 27,
   "metadata": {},
   "outputs": [],
   "source": [
    "# To implement k-NN as an alternative classification, we first implement euclidean distance\n",
    "def euclidean(p1, p2, dimension):\n",
    "    distance = 0\n",
    "    for i in range(dimension):\n",
    "        distance += np.power((p1[i] - p2[i]), 2)\n",
    "    return np.sqrt(distance)\n",
    "\n"
   ]
  },
  {
   "cell_type": "code",
   "execution_count": 28,
   "metadata": {},
   "outputs": [],
   "source": [
    "def neighbors(training_set: np.array, test_point: np.array, k: int):\n",
    "    \"\"\"\n",
    "    Calculate the k nearest neighbors in the training set for a given point in the test set of data, \n",
    "    using Euclidean Distance (applicable for n dimensions)\n",
    "    \n",
    "    Args:\n",
    "        :param training_set: The training set of data to look for neighbors in \n",
    "        :param test_point: The point in test set to look for neighbors for\n",
    "        :param k: Number of closest neighbor values to average\n",
    "    Returns:\n",
    "        :return: k nearest neighbors of the test point in the training set\n",
    "    \"\"\"\n",
    "    distances = np.empty(shape=(len(training_set), len(training_set[0]) + 1))\n",
    "    for i in range(len(training_set)):\n",
    "        distance = np.linalg.norm(test_point - training_set[i][0:training_set.shape[1] - 1])\n",
    "        # First 20 columns are the data point values\n",
    "        distances[i][0:len(distances[i]) - 2] = training_set[i][0:training_set.shape[1] - 1]\n",
    "        # One to last column is the class\n",
    "        distances[i][len(distances[i]) - 2] = training_set[i][training_set.shape[1] - 1]\n",
    "        # Last column is the distance\n",
    "        distances[i][len(distances[i]) - 1] = distance\n",
    "    # Sort based on the distance column\n",
    "    distances = distances[np.argsort(distances[:, distances.shape[1] - 1])]\n",
    "    k_neighbors = np.empty(shape=(k, training_set.shape[1]))\n",
    "    for i in range(k):\n",
    "        k_neighbors[i] = distances[i][0:distances.shape[1] - 1]\n",
    "    return k_neighbors\n"
   ]
  },
  {
   "cell_type": "code",
   "execution_count": 29,
   "metadata": {},
   "outputs": [],
   "source": [
    "kNN_results = np.zeros(shape=(200, 4))"
   ]
  },
  {
   "cell_type": "code",
   "execution_count": 31,
   "metadata": {
    "collapsed": true
   },
   "outputs": [],
   "source": [
    "kNN_prediction = np.empty(shape=(len(test), 1))\n",
    "for k in range(1, 201):\n",
    "    for i, test_sample in enumerate(test_x):\n",
    "        point_neighbors = neighbors(train, test_sample, k)\n",
    "        kNN_prediction[i] = np.mean(point_neighbors[:, -1])\n",
    "    \n",
    "    # Calculate the true and false positive and negative for the predictions\n",
    "    kNN_tp, kNN_tn, kNN_fp, kNN_fn = 0, 0, 0, 0\n",
    "    for i in range(len(kNN_prediction)):\n",
    "        if kNN_prediction[i] >= 0.5 and test_y[i] == 1:\n",
    "            kNN_tp += 1\n",
    "        if kNN_prediction[i] < 0.5 and test_y[i] == 0:\n",
    "            kNN_tn += 1\n",
    "        if kNN_prediction[i] >= 0.5 and test_y[i] == 0:\n",
    "            kNN_fp += 1\n",
    "        if kNN_prediction[i] < 0.5 and test_y[i] == 1:\n",
    "            kNN_fn += 1\n",
    "            \n",
    "    # Calculate the accuracy, precision, recall, and f1 metrics of the k-NN model\n",
    "    kNN_accuracy = (kNN_tn + kNN_tp) / len(test_x)\n",
    "    kNN_precision = kNN_tp / (kNN_tp + kNN_fp)\n",
    "    kNN_recall = kNN_tp / (kNN_tp + kNN_fn)\n",
    "    kNN_f1 = (2 * kNN_precision * kNN_recall) / (kNN_precision + kNN_recall)\n",
    "    \n",
    "    kNN_results[k-1][0] = kNN_accuracy\n",
    "    kNN_results[k-1][1] = kNN_precision\n",
    "    kNN_results[k-1][2] = kNN_recall\n",
    "    kNN_results[k-1][3] = kNN_f1"
   ]
  },
  {
   "cell_type": "code",
   "execution_count": 32,
   "metadata": {},
   "outputs": [],
   "source": [
    "np.savetxt('./src/DS2_kNN.csv', kNN_results, delimiter=',', fmt='%.4f')"
   ]
  },
  {
   "cell_type": "code",
   "execution_count": null,
   "metadata": {},
   "outputs": [],
   "source": []
  }
 ],
 "metadata": {
  "kernelspec": {
   "display_name": "Python 2",
   "language": "python",
   "name": "python2"
  },
  "language_info": {
   "codemirror_mode": {
    "name": "ipython",
    "version": 2
   },
   "file_extension": ".py",
   "mimetype": "text/x-python",
   "name": "python",
   "nbconvert_exporter": "python",
   "pygments_lexer": "ipython2",
   "version": "2.7.6"
  }
 },
 "nbformat": 4,
 "nbformat_minor": 0
}
