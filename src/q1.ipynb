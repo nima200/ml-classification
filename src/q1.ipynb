{
 "cells": [
  {
   "cell_type": "code",
   "execution_count": 43,
   "metadata": {
    "collapsed": true
   },
   "outputs": [],
   "source": [
    "import numpy as np\n",
    "# Import negative and positive class means, remove nan column\n",
    "nc_mean = np.genfromtxt('./src/data/DS1_m_0.txt', delimiter=',')\n",
    "nc_mean = np.delete(nc_mean, len(nc_mean) - 1)\n",
    "pc_mean = np.genfromtxt('./src/data/DS1_m_1.txt', delimiter=',')\n",
    "pc_mean = np.delete(pc_mean, len(pc_mean) - 1)"
   ]
  },
  {
   "cell_type": "code",
   "execution_count": 43,
   "metadata": {},
   "outputs": [],
   "source": [
    "# Import covariance matrix, remove nan column\n",
    "cov = np.genfromtxt('./src/data/DS1_Cov.txt', delimiter=',')\n",
    "cov = np.delete(cov, len(cov), axis=1)"
   ]
  },
  {
   "cell_type": "code",
   "execution_count": 70,
   "metadata": {},
   "outputs": [],
   "source": [
    "# Generate 2000 sample points for each class\n",
    "nc_temp_samples = np.random.multivariate_normal(nc_mean, cov, 2000)\n",
    "pc_temp_samples = np.random.multivariate_normal(pc_mean, cov, 2000)\n",
    "col1 = np.array([1 for c1 in range(2000)])\n",
    "col0 = np.array([0 for c0 in range(2000)])\n",
    "# Add a label of 1 for positive classes and 0 for negative classes\n",
    "nc_samples = np.insert(nc_temp_samples, len(nc_temp_samples[0]), col0, axis=1)\n",
    "pc_samples = np.insert(pc_temp_samples, len(pc_temp_samples[0]), col1, axis=1)\n",
    "all_samples = np.append(nc_samples, pc_samples, axis=0)\n",
    "# Shuffle the dataset\n",
    "np.random.shuffle(all_samples)\n",
    "# Save dataset as DS1 with 10 decimal precision\n",
    "np.savetxt('./src/data/DS1.csv', all_samples, delimiter=',', fmt='%.10f')\n"
   ]
  },
  {
   "cell_type": "code",
   "execution_count": 52,
   "metadata": {},
   "outputs": [],
   "source": []
  },
  {
   "cell_type": "code",
   "execution_count": null,
   "metadata": {},
   "outputs": [],
   "source": []
  }
 ],
 "metadata": {
  "kernelspec": {
   "display_name": "Python 2",
   "language": "python",
   "name": "python2"
  },
  "language_info": {
   "codemirror_mode": {
    "name": "ipython",
    "version": 2
   },
   "file_extension": ".py",
   "mimetype": "text/x-python",
   "name": "python",
   "nbconvert_exporter": "python",
   "pygments_lexer": "ipython2",
   "version": "2.7.6"
  }
 },
 "nbformat": 4,
 "nbformat_minor": 0
}
